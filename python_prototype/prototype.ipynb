{
 "cells": [
  {
   "cell_type": "code",
   "execution_count": 86,
   "metadata": {},
   "outputs": [],
   "source": [
    "import mpi4py\n",
    "import pyomo.environ as pyo\n",
    "import mpisppy.utils.sputils as sputils\n",
    "import numpy as np\n",
    "import pandas as pd"
   ]
  },
  {
   "cell_type": "code",
   "execution_count": 147,
   "metadata": {},
   "outputs": [],
   "source": [
    "def build_model(c_pv, c_wind, c_storage, c_in, c_out, timesteps, time_scale, storage_scale, pv, wind, demand):\n",
    "    model = pyo.ConcreteModel()\n",
    "\n",
    "    # Variables\n",
    "    model.u_pv = pyo.Var(within=pyo.NonNegativeReals)\n",
    "    model.u_wind = pyo.Var(within=pyo.NonNegativeReals)\n",
    "    model.u_storage = pyo.Var(within=pyo.NonNegativeReals)\n",
    "    model.grid_out = pyo.Var([t for t in timesteps], within=pyo.NonNegativeReals)\n",
    "    model.grid_in = pyo.Var([t for t in timesteps], within=pyo.NonNegativeReals)\n",
    "    model.storage = pyo.Var([t for t in timesteps], within=pyo.Reals)\n",
    "    model.buyback = pyo.Var([t for t in timesteps], within=pyo.Reals)\n",
    "\n",
    "    # Objectives\n",
    "    model.INVESTMENT_COST = model.u_pv*c_pv+model.u_wind*c_wind+model.u_storage*c_storage\n",
    "    model.OPERATION_COST = sum(model.grid_in)*c_in - sum(model.grid_out)*c_out\n",
    "    model.OBJ = pyo.Objective(\n",
    "        expr=model.INVESTMENT_COST/time_scale + model.OPERATION_COST,\n",
    "        sense=pyo.minimize)\n",
    "    \n",
    "    # Constraints\n",
    "    model.CONSTR= pyo.ConstraintList()\n",
    "    for t in timesteps:\n",
    "        model.CONSTR.add(pyo.summation(model.storage, index = range(t))>=-0.5*model.u_storage*storage_scale)\n",
    "        model.CONSTR.add(pyo.summation(model.storage, index = range(t))<=0.5*model.u_storage*storage_scale)\n",
    "        model.CONSTR.add(model.grid_in[t] - model.grid_out[t] + model.u_pv*pv[t] + model.u_wind*wind[t] - demand[t] + model.storage[t] + model.buyback[t] == 0)\n",
    "\n",
    "    #def energy_balance_rule(model, demand):\n",
    "    #    return model.grid_in - model.grid_out + pv*model.u_pv + wind*model.u_wind - demand + model.storage + model.buyback == 0\n",
    "    #def storage_capacity_rule(model, storage_scale):\n",
    "    #    return (-0.5*model.u_storage*storage_scale, sum(model.storage), 0.5*model.u_storage*storage_scale)\n",
    "    #model.ENERGY_BALANCE = pyo.Constraint(rule = energy_balance_rule(model, demand))\n",
    "    #model.STORAGE_CAPACITY = pyo.Constraint(rule = storage_capacity_rule(model, storage_scale))\n",
    "    #\n",
    "    return model"
   ]
  },
  {
   "cell_type": "code",
   "execution_count": 148,
   "metadata": {},
   "outputs": [],
   "source": [
    "c_i = .03\n",
    "c_o = .01\n",
    "timesteps = range(24)\n",
    "time_scale = 10. *365*24/len(timesteps)\n",
    "c_pv = 1000.\n",
    "c_wind = 1000.\n",
    "c_storage = 400.\n",
    "c_flex = .5\n",
    "F = 3\n",
    "storage_scale = .5"
   ]
  },
  {
   "cell_type": "markdown",
   "metadata": {},
   "source": [
    "pv_data = pd.read_csv(\"../data/pv_Halle18.csv\")\n",
    "wind_data = pd.read_csv(\"../data/wind_Karholz.csv\")\n",
    "demand_data = pd.read_csv(\"../data/demand_Industriepark.csv\")"
   ]
  },
  {
   "cell_type": "code",
   "execution_count": 149,
   "metadata": {},
   "outputs": [],
   "source": [
    "pv_data = np.genfromtxt(\"../data/pv_Halle18.csv\", delimiter=\",\")[1:(len(timesteps)+1)]\n",
    "wind_data = np.genfromtxt(\"../data/wind_Karholz.csv\", delimiter=\",\")[1:(len(timesteps)+1)]\n",
    "demand_data = np.genfromtxt(\"../data/demand_Industriepark.csv\", delimiter=\",\")[1:(len(timesteps)+1)]"
   ]
  },
  {
   "cell_type": "code",
   "execution_count": 150,
   "metadata": {},
   "outputs": [],
   "source": [
    "model = build_model(c_pv, c_wind, c_storage, c_i, c_o, timesteps, time_scale, storage_scale, pv_data, wind_data, demand_data)"
   ]
  },
  {
   "cell_type": "code",
   "execution_count": 151,
   "metadata": {},
   "outputs": [
    {
     "name": "stdout",
     "output_type": "stream",
     "text": [
      "5.5\n"
     ]
    }
   ],
   "source": [
    "solver = pyo.SolverFactory(\"cbc\")\n",
    "solver.solve(model)\n",
    "print(f\"{pyo.value(model.OBJ):.1f}\")"
   ]
  },
  {
   "cell_type": "code",
   "execution_count": 153,
   "metadata": {},
   "outputs": [
    {
     "data": {
      "text/plain": [
       "0.0"
      ]
     },
     "execution_count": 153,
     "metadata": {},
     "output_type": "execute_result"
    }
   ],
   "source": [
    "pyo.value(model.u_wind)"
   ]
  },
  {
   "cell_type": "code",
   "execution_count": 116,
   "metadata": {},
   "outputs": [],
   "source": [
    "sputils.attach_root_node(model, model.INVESTMENT_COST, model.storage)"
   ]
  },
  {
   "cell_type": "code",
   "execution_count": null,
   "metadata": {},
   "outputs": [],
   "source": []
  }
 ],
 "metadata": {
  "interpreter": {
   "hash": "6578ca4066b1093858a4dd0f3365166805c6a5b5dfc1c3538d7ea79b4321c47d"
  },
  "kernelspec": {
   "display_name": "Python 3.7.9 64-bit ('base': conda)",
   "language": "python",
   "name": "python3"
  },
  "language_info": {
   "codemirror_mode": {
    "name": "ipython",
    "version": 3
   },
   "file_extension": ".py",
   "mimetype": "text/x-python",
   "name": "python",
   "nbconvert_exporter": "python",
   "pygments_lexer": "ipython3",
   "version": "3.7.9"
  },
  "orig_nbformat": 4
 },
 "nbformat": 4,
 "nbformat_minor": 2
}
