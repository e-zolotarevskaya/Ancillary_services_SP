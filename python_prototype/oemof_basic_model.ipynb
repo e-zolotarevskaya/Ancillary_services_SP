{
 "cells": [
  {
   "cell_type": "code",
   "execution_count": 1,
   "metadata": {},
   "outputs": [],
   "source": [
    "from oemof import solph\n",
    "\n",
    "import pandas as pd\n",
    "import matplotlib.pyplot as plt\n",
    "import numpy as np\n",
    "import os\n",
    "import logging\n",
    "import pyomo #necessary for the filtering components by type"
   ]
  },
  {
   "cell_type": "code",
   "execution_count": 2,
   "metadata": {},
   "outputs": [],
   "source": [
    "import mpi4py\n",
    "import mpisppy.utils.sputils as sputils\n",
    "from mpisppy.opt.ef import ExtensiveForm"
   ]
  },
  {
   "cell_type": "code",
   "execution_count": 3,
   "metadata": {},
   "outputs": [],
   "source": [
    "solver = \"cbc\"  # 'glpk', 'gurobi',....\n",
    "debug = False  # Set number_of_timesteps to 3 to get a readable lp-file.\n",
    "number_of_time_steps =  10\n",
    "date_time_index = pd.date_range(\n",
    "    \"1/1/2012\", periods=number_of_time_steps, freq=\"H\"\n",
    ")"
   ]
  },
  {
   "cell_type": "markdown",
   "metadata": {},
   "source": [
    "## First some utility functions"
   ]
  },
  {
   "cell_type": "code",
   "execution_count": 74,
   "metadata": {},
   "outputs": [],
   "source": [
    "def clamped_sin(x):\n",
    "    return np.sin(x) if np.sin(x) > 0. else 0."
   ]
  },
  {
   "cell_type": "markdown",
   "metadata": {},
   "source": [
    "## Then define the data we work on"
   ]
  },
  {
   "cell_type": "code",
   "execution_count": 97,
   "metadata": {},
   "outputs": [],
   "source": [
    "solar_data = [clamped_sin(x.hour/24. * 2. * np.pi) for x in date_time_index]\n",
    "demand_data = [np.sin(x.hour/24. * 2. * np.pi) * 10 + 5 for x in date_time_index]"
   ]
  },
  {
   "cell_type": "code",
   "execution_count": 98,
   "metadata": {},
   "outputs": [
    {
     "data": {
      "text/plain": [
       "[<matplotlib.lines.Line2D at 0x7fe4c63c5d90>]"
      ]
     },
     "execution_count": 98,
     "metadata": {},
     "output_type": "execute_result"
    },
    {
     "data": {
      "image/png": "[encoded data removed]",
      "text/plain": [
       "<Figure size 1080x360 with 2 Axes>"
      ]
     },
     "metadata": {
      "needs_background": "light"
     },
     "output_type": "display_data"
    }
   ],
   "source": [
    "fig, axes = plt.subplots(nrows=1, ncols=2, figsize = (15,5))\n",
    "axes[0].plot(demand_data)\n",
    "axes[1].plot(solar_data)"
   ]
  },
  {
   "cell_type": "markdown",
   "metadata": {},
   "source": [
    "# Define Scenarios"
   ]
  },
  {
   "cell_type": "raw",
   "metadata": {
    "jupyter": {
     "source_hidden": true
    },
    "tags": []
   },
   "source": [
    " def scenario(solar_data, demand_data):\n",
    "    bel = solph.Bus(label=\"electricity\")\n",
    "\n",
    "    gsi = solph.Sink(\n",
    "            label=\"grid_sink\",\n",
    "            inputs={bel: solph.Flow(nominal_value=5000, variable_costs=0.1)},\n",
    "        )\n",
    "\n",
    "    gso = solph.Source(\n",
    "            label=\"grid_source\",\n",
    "            outputs={bel: solph.Flow(nominal_value=5000, variable_costs=4)},\n",
    "        )\n",
    "\n",
    "    # Random demand spike at different times in each scenario\n",
    "    anc_req = np.zeros_like(demand_data)\n",
    "    pos = np.random.randint(len(demand_data) - 5)\n",
    "    anc_req[pos:pos+5] += 1 + np.random.randn()\n",
    "    dem = solph.Sink(\n",
    "            label=\"demand\",\n",
    "            inputs={bel: solph.Flow(fix=dem_data, nominal_value=10)},\n",
    "        )\n",
    "\n",
    "    pvi = solph.Source(\n",
    "            label=\"pv\",\n",
    "            outputs={bel: solph.Flow(fix=solar_data, investment=solph.Investment(ep_costs=0.2))},\n",
    "        )\n",
    "    \n",
    "    return (bel, gsi, gso, dem, pvi)"
   ]
  },
  {
   "cell_type": "code",
   "execution_count": 7,
   "metadata": {},
   "outputs": [],
   "source": [
    "def build_model(date_time_index, bel, gsi, gso, dem, pvi, anc_req):\n",
    "    \n",
    "    es = solph.EnergySystem(timeindex=date_time_index)\n",
    "    es.add(bel)\n",
    "    es.add(gsi)\n",
    "    es.add(gso)\n",
    "    es.add(dem)\n",
    "    es.add(pvi)\n",
    "    es.add(anc_req)\n",
    "    model = solph.Model(es)\n",
    "    return model"
   ]
  },
  {
   "cell_type": "code",
   "execution_count": 8,
   "metadata": {},
   "outputs": [],
   "source": [
    "N_scen = 2"
   ]
  },
  {
   "cell_type": "code",
   "execution_count": 99,
   "metadata": {
    "tags": []
   },
   "outputs": [],
   "source": [
    "def create_scenario(scen_name):\n",
    "#def create_scenario(N_scen, date_time_index, solar_data, demand_data):\n",
    "    # Random demand spike at different times in each scenario\n",
    "    bel = solph.Bus(label=\"electricity\")\n",
    "\n",
    "    gsi = solph.Sink(\n",
    "            label=\"grid_sink\",\n",
    "            inputs={bel: solph.Flow(nominal_value=5000, variable_costs=0.1)},\n",
    "        )\n",
    "\n",
    "    gso = solph.Source(\n",
    "            label=\"grid_source\",\n",
    "            outputs={bel: solph.Flow(nominal_value=5000, variable_costs=4)},\n",
    "        )\n",
    "    dem = solph.Sink(\n",
    "            label=\"demand\",\n",
    "            inputs={bel: solph.Flow(fix=demand_data, nominal_value=10)},\n",
    "        )\n",
    "\n",
    "    pvi = solph.Source(\n",
    "            label=\"pv\",\n",
    "            outputs={bel: solph.Flow(fix=solar_data, investment=solph.Investment(ep_costs=0.2))},\n",
    "        )\n",
    "    anc_req = [0. for n in range(len(demand_data))]\n",
    "    pos = np.random.randint(len(demand_data) - 5)\n",
    "    anc_req[pos] += 1 + np.random.randn()\n",
    "    anc = solph.Sink(\n",
    "            label=\"anc_request\",\n",
    "            inputs={bel: solph.Flow(fix=anc_req, nominal_value=10)},\n",
    "        )\n",
    "    \n",
    "    model = build_model(date_time_index, bel, gsi, gso, dem, pvi, anc)\n",
    "    \n",
    "    scenario_independent_variables = list(filter(lambda s : 'pv' in s.to_string() and type(s) == pyomo.core.base.var._GeneralVarData, model.component_data_objects()))\n",
    "    # Add first-stage cost here:\n",
    "    # First-stage variables: [flow['electricity, gsi'], flow['electricity, gso'], flow['pv, electricity']]\n",
    "    sputils.attach_root_node(model, [], scenario_independent_variables)\n",
    "\n",
    "    model._mpisppy_probability = 1.0 / N_scen\n",
    "    return model"
   ]
  },
  {
   "cell_type": "code",
   "execution_count": 100,
   "metadata": {},
   "outputs": [],
   "source": [
    "models = []\n",
    "for n in range(2):\n",
    "    models.append(create_scenario(n))"
   ]
  },
  {
   "cell_type": "code",
   "execution_count": 101,
   "metadata": {},
   "outputs": [],
   "source": [
    "model = create_scenario(1)"
   ]
  },
  {
   "cell_type": "code",
   "execution_count": 102,
   "metadata": {},
   "outputs": [
    {
     "name": "stdout",
     "output_type": "stream",
     "text": [
      "[181790.38] Initializing SPBase\n"
     ]
    }
   ],
   "source": [
    "options = {\"solver\": \"cbc\"}\n",
    "N_scen = 2\n",
    "#all_scenarios = [(N_scen, date_time_index, solar_data, demand_data) for n in range(N_scen)]\n",
    "all_scenarios = [\"1\", \"2\"]\n",
    "\n",
    "\n",
    "ef = ExtensiveForm(options, all_scenarios, create_scenario)\n"
   ]
  },
  {
   "cell_type": "code",
   "execution_count": 103,
   "metadata": {},
   "outputs": [
    {
     "name": "stdout",
     "output_type": "stream",
     "text": [
      "401.7\n"
     ]
    }
   ],
   "source": [
    "results = ef.solve_extensive_form()\n",
    "\n",
    "objval = ef.get_objective_value()\n",
    "print(f\"{objval:.1f}\")"
   ]
  },
  {
   "cell_type": "code",
   "execution_count": 104,
   "metadata": {
    "tags": []
   },
   "outputs": [
    {
     "name": "stdout",
     "output_type": "stream",
     "text": [
      "\n",
      "Problem: \n",
      "- Name: unknown\n",
      "  Lower bound: 401.7441876\n",
      "  Upper bound: 401.7441876\n",
      "  Number of objectives: 1\n",
      "  Number of constraints: 52\n",
      "  Number of variables: 63\n",
      "  Number of nonzeros: 37\n",
      "  Sense: minimize\n",
      "Solver: \n",
      "- Status: ok\n",
      "  User time: -1.0\n",
      "  System time: 0.0\n",
      "  Wallclock time: 0.01\n",
      "  Termination condition: optimal\n",
      "  Termination message: Model was solved to optimality (subject to tolerances), and an optimal solution is available.\n",
      "  Statistics: \n",
      "    Branch and bound: \n",
      "      Number of bounded subproblems: None\n",
      "      Number of created subproblems: None\n",
      "    Black box: \n",
      "      Number of iterations: 18\n",
      "  Error rc: 0\n",
      "  Time: 0.06586861610412598\n",
      "Solution: \n",
      "- number of solutions: 1\n",
      "  number of solutions displayed: 1\n",
      "- Gap: 0.0\n",
      "  Status: optimal\n",
      "  Objective:\n",
      "    __default_objective__:\n",
      "      Value: 401.7441876\n",
      "  Variable:\n",
      "    ONE_VAR_CONSTANT:\n",
      "      Value: 1\n",
      "    x100:\n",
      "      Value: 253.9058\n",
      "    x101:\n",
      "      Value: 207.31322\n",
      "    x102:\n",
      "      Value: 293.18517\n",
      "    x23:\n",
      "      Value: 46.592583\n",
      "    x24:\n",
      "      Value: 86.60254\n",
      "    x25:\n",
      "      Value: 95.911267\n",
      "    x26:\n",
      "      Value: 136.60254\n",
      "    x27:\n",
      "      Value: 143.18517\n",
      "    x28:\n",
      "      Value: 136.60254\n",
      "    x29:\n",
      "      Value: 117.30326\n",
      "    x30:\n",
      "      Value: 86.60254\n",
      "    x31:\n",
      "      Value: 50\n",
      "    x42:\n",
      "      Value: 75.881905\n",
      "    x43:\n",
      "      Value: 146.59258\n",
      "    x44:\n",
      "      Value: 207.31322\n",
      "    x45:\n",
      "      Value: 253.9058\n",
      "    x46:\n",
      "      Value: 283.19512\n",
      "    x47:\n",
      "      Value: 293.18517\n",
      "    x48:\n",
      "      Value: 283.19512\n",
      "    x49:\n",
      "      Value: 253.9058\n",
      "    x50:\n",
      "      Value: 207.31322\n",
      "    x51:\n",
      "      Value: 293.18517\n",
      "    x74:\n",
      "      Value: 46.592583\n",
      "    x75:\n",
      "      Value: 86.60254\n",
      "    x76:\n",
      "      Value: 117.30326\n",
      "    x77:\n",
      "      Value: 136.60254\n",
      "    x78:\n",
      "      Value: 143.18517\n",
      "    x79:\n",
      "      Value: 136.60254\n",
      "    x80:\n",
      "      Value: 117.30326\n",
      "    x81:\n",
      "      Value: 86.60254\n",
      "    x82:\n",
      "      Value: 78.548656\n",
      "    x93:\n",
      "      Value: 75.881905\n",
      "    x94:\n",
      "      Value: 146.59258\n",
      "    x95:\n",
      "      Value: 207.31322\n",
      "    x96:\n",
      "      Value: 253.9058\n",
      "    x97:\n",
      "      Value: 283.19512\n",
      "    x98:\n",
      "      Value: 293.18517\n",
      "    x99:\n",
      "      Value: 283.19512\n",
      "  Constraint: No values\n",
      "\n"
     ]
    }
   ],
   "source": [
    "print(results)"
   ]
  },
  {
   "cell_type": "code",
   "execution_count": 24,
   "metadata": {},
   "outputs": [
    {
     "data": {
      "text/plain": [
       "pyomo.core.base.set.SetProduct_OrderedSet"
      ]
     },
     "execution_count": 24,
     "metadata": {},
     "output_type": "execute_result"
    }
   ],
   "source": [
    "type(list(model.component_data_objects())[-1]) "
   ]
  },
  {
   "cell_type": "code",
   "execution_count": 31,
   "metadata": {},
   "outputs": [],
   "source": [
    "l = list(filter(lambda s : 'pv' in s.to_string() and type(s) == pyomo.core.base.var._GeneralVarData, model.component_data_objects()))"
   ]
  },
  {
   "cell_type": "code",
   "execution_count": 30,
   "metadata": {},
   "outputs": [
    {
     "data": {
      "text/plain": [
       "True"
      ]
     },
     "execution_count": 30,
     "metadata": {},
     "output_type": "execute_result"
    }
   ],
   "source": [
    "type(l[1]) == pyomo.core.base.var._GeneralVarData"
   ]
  },
  {
   "cell_type": "code",
   "execution_count": 32,
   "metadata": {},
   "outputs": [
    {
     "name": "stdout",
     "output_type": "stream",
     "text": [
      "[<pyomo.core.base.var._GeneralVarData object at 0x7fe4cc90e590>, <pyomo.core.base.var._GeneralVarData object at 0x7fe4cc90e600>, <pyomo.core.base.var._GeneralVarData object at 0x7fe4cc90e670>, <pyomo.core.base.var._GeneralVarData object at 0x7fe4cc90e6e0>, <pyomo.core.base.var._GeneralVarData object at 0x7fe4cc90e750>, <pyomo.core.base.var._GeneralVarData object at 0x7fe4cc90e7c0>, <pyomo.core.base.var._GeneralVarData object at 0x7fe4cc90e830>, <pyomo.core.base.var._GeneralVarData object at 0x7fe4cc90e8a0>, <pyomo.core.base.var._GeneralVarData object at 0x7fe4cc90e910>, <pyomo.core.base.var._GeneralVarData object at 0x7fe4cc90e980>, <pyomo.core.base.var._GeneralVarData object at 0x7fe4cc90ef30>]\n"
     ]
    }
   ],
   "source": [
    "print(l)"
   ]
  },
  {
   "cell_type": "code",
   "execution_count": 65,
   "metadata": {},
   "outputs": [
    {
     "data": {
      "text/plain": [
       "dict_values([<pyomo.opt.results.container.ListContainer object at 0x7fe4cc88cb10>, <pyomo.opt.results.container.ListContainer object at 0x7fe4cc88ca10>, <pyomo.opt.results.solution.SolutionSet object at 0x7fe4cc88cc90>])"
      ]
     },
     "execution_count": 65,
     "metadata": {},
     "output_type": "execute_result"
    }
   ],
   "source": [
    "results.values()"
   ]
  },
  {
   "cell_type": "code",
   "execution_count": 110,
   "metadata": {},
   "outputs": [
    {
     "name": "stdout",
     "output_type": "stream",
     "text": [
      "flow[pv,electricity,0] 0.0\n",
      "flow[pv,electricity,1] 75.881905\n",
      "flow[pv,electricity,2] 146.59258\n",
      "flow[pv,electricity,3] 207.31322\n",
      "flow[pv,electricity,4] 253.9058\n",
      "flow[pv,electricity,5] 283.19512\n",
      "flow[pv,electricity,6] 293.18517\n",
      "flow[pv,electricity,7] 283.19512\n",
      "flow[pv,electricity,8] 253.9058\n",
      "flow[pv,electricity,9] 207.31322\n",
      "InvestmentFlow.invest[pv,electricity] 293.18517\n"
     ]
    }
   ],
   "source": [
    "soln = ef.get_root_solution()\n",
    "for (var_name, var_val) in soln.items():\n",
    "    print(var_name, var_val)"
   ]
  },
  {
   "cell_type": "code",
   "execution_count": 107,
   "metadata": {},
   "outputs": [],
   "source": [
    "def plot_results(solution, solar_data, demand_data):\n",
    "    flow = []\n",
    "    pv_inv = 0.\n",
    "    for (var_name, var_val) in solution.items():\n",
    "        if \"flow\" in var_name:\n",
    "            flow.append(var_val)\n",
    "        elif \"Investment\" in var_name and \"pv\" in var_name:\n",
    "            pv_inv = var_val\n",
    "    #plt.plot(np.multiply(solar_data,pv_inv), label = \"pv investement\")\n",
    "    plt.plot(flow, label = \"pv\")\n",
    "    plt.plot(demand_data, label = \"demand\")\n",
    "    plt.legend()\n",
    "    plt.show()"
   ]
  },
  {
   "cell_type": "code",
   "execution_count": 80,
   "metadata": {},
   "outputs": [
    {
     "ename": "TypeError",
     "evalue": "'bool' object is not iterable",
     "output_type": "error",
     "traceback": [
      "\u001b[0;31m---------------------------------------------------------------------------\u001b[0m",
      "\u001b[0;31mTypeError\u001b[0m                                 Traceback (most recent call last)",
      "\u001b[0;32m<ipython-input-80-98b3f687ca87>\u001b[0m in \u001b[0;36m<module>\u001b[0;34m\u001b[0m\n\u001b[0;32m----> 1\u001b[0;31m \u001b[0mlist\u001b[0m\u001b[0;34m(\u001b[0m\u001b[0mfilter\u001b[0m\u001b[0;34m(\u001b[0m\u001b[0;34m\"flow\"\u001b[0m \u001b[0;32min\u001b[0m \u001b[0mstr\u001b[0m\u001b[0;34m(\u001b[0m\u001b[0mvar_name\u001b[0m\u001b[0;34m)\u001b[0m\u001b[0;34m,\u001b[0m \u001b[0;34m(\u001b[0m\u001b[0mvar_name\u001b[0m\u001b[0;34m,\u001b[0m \u001b[0mvar_val\u001b[0m\u001b[0;34m)\u001b[0m \u001b[0;32min\u001b[0m \u001b[0msoln\u001b[0m\u001b[0;34m.\u001b[0m\u001b[0mitems\u001b[0m\u001b[0;34m(\u001b[0m\u001b[0;34m)\u001b[0m\u001b[0;34m)\u001b[0m\u001b[0;34m)\u001b[0m\u001b[0;34m\u001b[0m\u001b[0;34m\u001b[0m\u001b[0m\n\u001b[0m",
      "\u001b[0;31mTypeError\u001b[0m: 'bool' object is not iterable"
     ]
    }
   ],
   "source": [
    "list(filter(\"flow\" in str(var_name), (var_name, var_val) in soln.items()))"
   ]
  },
  {
   "cell_type": "code",
   "execution_count": 81,
   "metadata": {},
   "outputs": [],
   "source": [
    "flow = []\n",
    "for (var_name, var_val) in soln.items():\n",
    "    if \"flow\" in var_name:\n",
    "        flow.append(var_val)"
   ]
  },
  {
   "cell_type": "code",
   "execution_count": 82,
   "metadata": {},
   "outputs": [
    {
     "data": {
      "text/plain": [
       "[0.0,\n",
       " 11.2687,\n",
       " 21.769457,\n",
       " 30.786662,\n",
       " 37.705806,\n",
       " 42.055362,\n",
       " 43.538915,\n",
       " 42.055362,\n",
       " 37.705806,\n",
       " 30.786662]"
      ]
     },
     "execution_count": 82,
     "metadata": {},
     "output_type": "execute_result"
    }
   ],
   "source": [
    "flow"
   ]
  },
  {
   "cell_type": "code",
   "execution_count": 108,
   "metadata": {},
   "outputs": [
    {
     "data": {
      "image/png": "[encoded data removed]",
      "text/plain": [
       "<Figure size 432x288 with 1 Axes>"
      ]
     },
     "metadata": {
      "needs_background": "light"
     },
     "output_type": "display_data"
    }
   ],
   "source": [
    "plot_results(soln, solar_data, demand_data)"
   ]
  },
  {
   "cell_type": "code",
   "execution_count": 109,
   "metadata": {},
   "outputs": [
    {
     "data": {
      "text/plain": [
       "[<matplotlib.lines.Line2D at 0x7fe4c617fe10>]"
      ]
     },
     "execution_count": 109,
     "metadata": {},
     "output_type": "execute_result"
    },
    {
     "data": {
      "image/png": "[encoded data removed]",
      "text/plain": [
       "<Figure size 432x288 with 1 Axes>"
      ]
     },
     "metadata": {
      "needs_background": "light"
     },
     "output_type": "display_data"
    }
   ],
   "source": [
    "plt.plot(demand_data)"
   ]
  },
  {
   "cell_type": "code",
   "execution_count": null,
   "metadata": {},
   "outputs": [],
   "source": []
  }
 ],
 "metadata": {
  "interpreter": {
   "hash": "779b9f68735e99525fb75cbe8b4914a52e5c3873ebffb11b75ded01ccf1aa761"
  },
  "kernelspec": {
   "display_name": "Python 3",
   "language": "python",
   "name": "python3"
  },
  "language_info": {
   "codemirror_mode": {
    "name": "ipython",
    "version": 3
   },
   "file_extension": ".py",
   "mimetype": "text/x-python",
   "name": "python",
   "nbconvert_exporter": "python",
   "pygments_lexer": "ipython3",
   "version": "3.7.9"
  }
 },
 "nbformat": 4,
 "nbformat_minor": 4
}
